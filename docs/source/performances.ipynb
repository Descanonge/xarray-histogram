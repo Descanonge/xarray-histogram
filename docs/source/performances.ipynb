{
 "cells": [
  {
   "cell_type": "markdown",
   "id": "46b9868e-d930-46bb-9aa5-7019c8e24e97",
   "metadata": {},
   "source": [
    "# Performance comparison\n",
    "\n",
    "Here is a performance comparison using random numpy or dask arrays.\n",
    "This is the same setup used in the [boost documentation](https://boost-histogram.readthedocs.io/en/latest/notebooks/PerformanceComparison.html) to compare with numpy performances.\n",
    "\n",
    "This notebook was run on a Dell Precision 5480 (CPU 13th Gen Intel Core i7-13700H x 20 threads)."
   ]
  },
  {
   "cell_type": "markdown",
   "id": "c15b356f-e68a-4ed5-b1e6-8dd100f60ecc",
   "metadata": {},
   "source": [
    "## Recap\n",
    "\n",
    "|                   | numpy  | xhistogram | xarray-histogram |\n",
    "| :---------------- | -----: | ---------: | ---------------: |\n",
    "| Numpy flat        |  59 ms |     389 ms |            34 ms |\n",
    "| Numpy along 1D    |        |     352 ms |            24 ms |\n",
    "| Numpy 2 variables | 801 ms |     780 ms |            63 ms |\n",
    "| Dask flat         |        |      91 ms |            61 ms |\n",
    "| Dask along 1D     |        |     186 ms |           100 ms |\n",
    "| Dask 2 variables  |        |     150 ms |            83 ms |"
   ]
  },
  {
   "cell_type": "code",
   "execution_count": 1,
   "id": "3452c0d4-5dc6-464d-a6db-c6b7d5bfca81",
   "metadata": {},
   "outputs": [],
   "source": [
    "import numpy as np\n",
    "import xarray as xr\n",
    "import xarray_histogram as xh\n",
    "from numpy.testing import assert_allclose\n",
    "from xhistogram.xarray import histogram as xhistogram"
   ]
  },
  {
   "cell_type": "markdown",
   "id": "9a2d1f67-da55-4fdf-aa76-0150ac72ed52",
   "metadata": {},
   "source": [
    "## Numpy arrays"
   ]
  },
  {
   "cell_type": "markdown",
   "id": "e8ad63c2-238e-4d05-bad3-b1f50a5d7b98",
   "metadata": {},
   "source": [
    "### One-dimensional histogram (flattened)"
   ]
  },
  {
   "cell_type": "code",
   "execution_count": 2,
   "id": "3d9e5b5a-f4e3-43c1-b79b-b41d2c86533d",
   "metadata": {},
   "outputs": [],
   "source": [
    "rng = np.random.default_rng(seed=10)\n",
    "values = rng.normal(size=[1000, 10_000]).astype(np.float32)\n",
    "x = xr.DataArray(values, name='test_1d')\n",
    "\n",
    "hist_kw = dict(bins=100, range=(-3, 3))\n",
    "\n",
    "answer, _ = np.histogram(values, **hist_kw)"
   ]
  },
  {
   "cell_type": "markdown",
   "id": "1b4224de-0df2-41bb-a2ef-e8ba4f56ae2c",
   "metadata": {},
   "source": [
    "#### numpy"
   ]
  },
  {
   "cell_type": "code",
   "execution_count": 3,
   "id": "728ce33b-6f8e-4470-98a5-599c7347941a",
   "metadata": {},
   "outputs": [
    {
     "name": "stdout",
     "output_type": "stream",
     "text": [
      "59.2 ms ± 571 µs per loop (mean ± std. dev. of 7 runs, 10 loops each)\n"
     ]
    }
   ],
   "source": [
    "%%timeit\n",
    "h, _ = np.histogram(values, **hist_kw)\n",
    "assert_allclose(h, answer)"
   ]
  },
  {
   "cell_type": "markdown",
   "id": "3708e171-d465-41ac-86af-36f3e3b77b93",
   "metadata": {},
   "source": [
    "#### xhistogram"
   ]
  },
  {
   "cell_type": "code",
   "execution_count": 4,
   "id": "b0e6b1c6-5592-4d69-8050-15134e20638b",
   "metadata": {},
   "outputs": [
    {
     "name": "stdout",
     "output_type": "stream",
     "text": [
      "388 ms ± 925 µs per loop (mean ± std. dev. of 7 runs, 1 loop each)\n"
     ]
    }
   ],
   "source": [
    "%%timeit\n",
    "h = xhistogram(x, **hist_kw)\n",
    "assert_allclose(h.values, answer)"
   ]
  },
  {
   "cell_type": "markdown",
   "id": "5a2c48d5-b822-487a-ba6c-000efaa8c2cf",
   "metadata": {},
   "source": [
    "#### xarray-histogram"
   ]
  },
  {
   "cell_type": "code",
   "execution_count": 5,
   "id": "65a77f66-e80f-41d2-8161-32c55f91e5f1",
   "metadata": {
    "scrolled": true
   },
   "outputs": [
    {
     "name": "stdout",
     "output_type": "stream",
     "text": [
      "33.6 ms ± 506 µs per loop (mean ± std. dev. of 7 runs, 10 loops each)\n"
     ]
    }
   ],
   "source": [
    "%%timeit\n",
    "h = xh.histogram(x, **hist_kw)\n",
    "assert_allclose(h.values, answer, atol=1)"
   ]
  },
  {
   "cell_type": "markdown",
   "id": "5fce48bd-50ff-4631-8ccb-7d0d2cc8e725",
   "metadata": {},
   "source": [
    "### Two variables (flattened)"
   ]
  },
  {
   "cell_type": "code",
   "execution_count": 6,
   "id": "520e1478-81c9-4fd3-8fbe-86bb41515d63",
   "metadata": {},
   "outputs": [],
   "source": [
    "values = rng.normal(size=[2, 10_000_000]).astype(np.float32)\n",
    "x = [xr.DataArray(values[i], name=f\"test_2d_{i}\") for i in range(2)]\n",
    "\n",
    "hist_kw = dict(bins=100, range=[(-3, 3), (-3, 3)])\n",
    "\n",
    "answer, _, _ = np.histogram2d(*values, **hist_kw)"
   ]
  },
  {
   "cell_type": "markdown",
   "id": "afc4a4c7-ebc1-4e05-8c23-730fdf1f8abb",
   "metadata": {},
   "source": [
    "#### numpy"
   ]
  },
  {
   "cell_type": "code",
   "execution_count": 7,
   "id": "2220f23f-1ad7-4322-bb52-fb1d27b27c95",
   "metadata": {},
   "outputs": [
    {
     "name": "stdout",
     "output_type": "stream",
     "text": [
      "801 ms ± 2.59 ms per loop (mean ± std. dev. of 7 runs, 1 loop each)\n"
     ]
    }
   ],
   "source": [
    "%%timeit\n",
    "h, _, _ = np.histogram2d(*values, **hist_kw)\n",
    "assert_allclose(h, answer, atol=1)"
   ]
  },
  {
   "cell_type": "markdown",
   "id": "c5308ea7-ce8f-4fea-a7f2-a37efbae49d9",
   "metadata": {},
   "source": [
    "#### xhistogram"
   ]
  },
  {
   "cell_type": "code",
   "execution_count": 8,
   "id": "c9ffb799-8d51-420b-a360-676f53e97217",
   "metadata": {},
   "outputs": [
    {
     "name": "stdout",
     "output_type": "stream",
     "text": [
      "780 ms ± 882 µs per loop (mean ± std. dev. of 7 runs, 1 loop each)\n"
     ]
    }
   ],
   "source": [
    "%%timeit\n",
    "h = xhistogram(*x, **hist_kw)\n",
    "assert_allclose(h.values, answer, atol=1)"
   ]
  },
  {
   "cell_type": "markdown",
   "id": "20beb48e-561c-465c-b288-2c90b34d19c0",
   "metadata": {},
   "source": [
    "#### xarray-histogram"
   ]
  },
  {
   "cell_type": "code",
   "execution_count": 9,
   "id": "9b5b79e1-1af0-4c77-b8ac-1358778c27c5",
   "metadata": {},
   "outputs": [
    {
     "name": "stdout",
     "output_type": "stream",
     "text": [
      "63.2 ms ± 1.13 ms per loop (mean ± std. dev. of 7 runs, 10 loops each)\n"
     ]
    }
   ],
   "source": [
    "%%timeit\n",
    "h = xh.histogram2d(*x, **hist_kw)\n",
    "assert_allclose(h.values, answer, atol=1)"
   ]
  },
  {
   "cell_type": "markdown",
   "id": "24171477-5825-4db2-ab91-e9a09e1bfa63",
   "metadata": {},
   "source": [
    "### One-dimensional (along second dimension)"
   ]
  },
  {
   "cell_type": "code",
   "execution_count": 10,
   "id": "2954dabf-131e-4cf2-8928-d2daf8cc58c2",
   "metadata": {},
   "outputs": [],
   "source": [
    "values = np.random.normal(size=[3, 3_000_000]).astype(np.float32)\n",
    "x = xr.DataArray(values, name='test_1d', dims=['t', 'x'])\n",
    "\n",
    "hist_kw = dict(bins=100, range=(-3, 3))\n",
    "\n",
    "answer = xhistogram(x, **hist_kw, dim=['x']).load()"
   ]
  },
  {
   "cell_type": "markdown",
   "id": "7fbfb739-0e9a-426d-a83b-716adb13bc0c",
   "metadata": {},
   "source": [
    "#### xhistogram"
   ]
  },
  {
   "cell_type": "code",
   "execution_count": 11,
   "id": "1ec6d3f8-9b01-4111-a152-c1828c6c440a",
   "metadata": {},
   "outputs": [
    {
     "name": "stdout",
     "output_type": "stream",
     "text": [
      "351 ms ± 886 µs per loop (mean ± std. dev. of 7 runs, 1 loop each)\n"
     ]
    }
   ],
   "source": [
    "%%timeit\n",
    "h = xhistogram(x, **hist_kw, dim=['x'])\n",
    "assert_allclose(h.values, answer.values, atol=1)"
   ]
  },
  {
   "cell_type": "markdown",
   "id": "a2300ffd-1947-4a95-8953-5453b1668030",
   "metadata": {},
   "source": [
    "#### xarray-histogram"
   ]
  },
  {
   "cell_type": "code",
   "execution_count": 12,
   "id": "38d9e74a-6a54-4160-a90f-05cc92dbfbea",
   "metadata": {},
   "outputs": [
    {
     "name": "stdout",
     "output_type": "stream",
     "text": [
      "24.2 ms ± 46.7 µs per loop (mean ± std. dev. of 7 runs, 10 loops each)\n"
     ]
    }
   ],
   "source": [
    "%%timeit\n",
    "h = xh.histogram(x, **hist_kw, dims=['x'])\n",
    "assert_allclose(h.values, answer.values, atol=1)"
   ]
  },
  {
   "cell_type": "markdown",
   "id": "a64f4d84",
   "metadata": {},
   "source": [
    "## Dask arrays"
   ]
  },
  {
   "cell_type": "code",
   "execution_count": 13,
   "id": "4c7de314",
   "metadata": {},
   "outputs": [],
   "source": [
    "import boost_histogram as bh\n",
    "import dask.array as da"
   ]
  },
  {
   "cell_type": "markdown",
   "id": "9beee267",
   "metadata": {},
   "source": [
    "### One-dimensional histogram (flattened)"
   ]
  },
  {
   "cell_type": "code",
   "execution_count": 14,
   "id": "15acf6cd",
   "metadata": {},
   "outputs": [],
   "source": [
    "chunk_size = 1_000_000\n",
    "values = da.random.normal(size=[10_000_000], chunks=(chunk_size)).astype(np.float32)\n",
    "x = xr.DataArray(values, name='test_1d')\n",
    "\n",
    "ax = bh.axis.Regular(100, -3, 3)\n",
    "\n",
    "answer = xhistogram(x, bins=ax.edges).load()"
   ]
  },
  {
   "cell_type": "markdown",
   "id": "c82731c2",
   "metadata": {},
   "source": [
    "#### xhistogram"
   ]
  },
  {
   "cell_type": "code",
   "execution_count": 15,
   "id": "3626be45",
   "metadata": {},
   "outputs": [
    {
     "name": "stdout",
     "output_type": "stream",
     "text": [
      "90.8 ms ± 1.89 ms per loop (mean ± std. dev. of 7 runs, 10 loops each)\n"
     ]
    }
   ],
   "source": [
    "%%timeit\n",
    "assert not x._in_memory\n",
    "h = xhistogram(x, bins=ax.edges, block_size=chunk_size)\n",
    "assert_allclose(h.values, answer)"
   ]
  },
  {
   "cell_type": "markdown",
   "id": "62d7bff0",
   "metadata": {},
   "source": [
    "#### xarray-histogram"
   ]
  },
  {
   "cell_type": "code",
   "execution_count": 16,
   "id": "dfe15e06",
   "metadata": {
    "scrolled": true
   },
   "outputs": [
    {
     "name": "stdout",
     "output_type": "stream",
     "text": [
      "61.3 ms ± 3.21 ms per loop (mean ± std. dev. of 7 runs, 10 loops each)\n"
     ]
    }
   ],
   "source": [
    "%%timeit\n",
    "assert not x._in_memory\n",
    "h = xh.histogram(x, bins=ax)\n",
    "assert_allclose(h.values, answer)"
   ]
  },
  {
   "cell_type": "markdown",
   "id": "e4e5301e",
   "metadata": {},
   "source": [
    "### Two variables (flattened)"
   ]
  },
  {
   "cell_type": "code",
   "execution_count": 17,
   "id": "bd42d17d",
   "metadata": {},
   "outputs": [],
   "source": [
    "values = da.random.normal(size=[2, 10_000_000], chunks=(1, chunk_size)).astype(np.float32)\n",
    "x = [xr.DataArray(values[i], name=f\"test_2d_{i}\") for i in range(2)]\n",
    "\n",
    "axes = [bh.axis.Regular(100, -3, 3) for _ in range(2)]\n",
    "edges = [ax.edges for ax in axes]\n",
    "         \n",
    "answer = xhistogram(*x, bins=edges).load()"
   ]
  },
  {
   "cell_type": "markdown",
   "id": "6b3fa37e",
   "metadata": {},
   "source": [
    "#### xhistogram"
   ]
  },
  {
   "cell_type": "code",
   "execution_count": 18,
   "id": "7954b1fd",
   "metadata": {},
   "outputs": [
    {
     "name": "stdout",
     "output_type": "stream",
     "text": [
      "150 ms ± 836 µs per loop (mean ± std. dev. of 7 runs, 10 loops each)\n"
     ]
    }
   ],
   "source": [
    "%%timeit\n",
    "assert not x[0]._in_memory\n",
    "h = xhistogram(*x, bins=edges, block_size=chunk_size)\n",
    "assert_allclose(h.values, answer)"
   ]
  },
  {
   "cell_type": "markdown",
   "id": "12348f56",
   "metadata": {},
   "source": [
    "#### xarray-histogram"
   ]
  },
  {
   "cell_type": "code",
   "execution_count": 19,
   "id": "47ef400d",
   "metadata": {},
   "outputs": [
    {
     "name": "stdout",
     "output_type": "stream",
     "text": [
      "82.7 ms ± 4.29 ms per loop (mean ± std. dev. of 7 runs, 10 loops each)\n"
     ]
    }
   ],
   "source": [
    "%%timeit\n",
    "assert not x[0]._in_memory\n",
    "h = xh.histogram2d(*x, bins=axes)\n",
    "assert_allclose(h.values, answer)"
   ]
  },
  {
   "cell_type": "markdown",
   "id": "563d6547",
   "metadata": {},
   "source": [
    "### One-dimensional (along second dimension)"
   ]
  },
  {
   "cell_type": "code",
   "execution_count": 20,
   "id": "f507a938-4444-47fe-ab06-d01de03c69da",
   "metadata": {},
   "outputs": [],
   "source": [
    "values = da.random.normal(size=[3, 10_000_000], chunks=(1, chunk_size))\n",
    "x = xr.DataArray(values, name='test_1d', dims=['t', 'x'])\n",
    "\n",
    "ax = bh.axis.Regular(100, -3, 3)\n",
    "\n",
    "answer = xhistogram(x, bins=ax.edges, dim=['x']).load()"
   ]
  },
  {
   "cell_type": "markdown",
   "id": "ea695e1e",
   "metadata": {},
   "source": [
    "#### xhistogram"
   ]
  },
  {
   "cell_type": "code",
   "execution_count": 21,
   "id": "97e0efbf",
   "metadata": {},
   "outputs": [
    {
     "name": "stdout",
     "output_type": "stream",
     "text": [
      "186 ms ± 3 ms per loop (mean ± std. dev. of 7 runs, 10 loops each)\n"
     ]
    }
   ],
   "source": [
    "%%timeit\n",
    "h = xhistogram(x, bins=ax.edges, dim=['x'], block_size=chunk_size)\n",
    "assert_allclose(h.values, answer.values)"
   ]
  },
  {
   "cell_type": "markdown",
   "id": "c5e3769f",
   "metadata": {},
   "source": [
    "#### xarray-histogram"
   ]
  },
  {
   "cell_type": "code",
   "execution_count": 22,
   "id": "9a19b59d",
   "metadata": {},
   "outputs": [
    {
     "name": "stdout",
     "output_type": "stream",
     "text": [
      "99.6 ms ± 3.91 ms per loop (mean ± std. dev. of 7 runs, 10 loops each)\n"
     ]
    }
   ],
   "source": [
    "%%timeit\n",
    "h = xh.histogram(x, bins=ax, dims=['x'])\n",
    "assert_allclose(h.values, answer.values)"
   ]
  }
 ],
 "metadata": {
  "kernelspec": {
   "display_name": "Python 3 (ipykernel)",
   "language": "python",
   "name": "python3"
  },
  "language_info": {
   "codemirror_mode": {
    "name": "ipython",
    "version": 3
   },
   "file_extension": ".py",
   "mimetype": "text/x-python",
   "name": "python",
   "nbconvert_exporter": "python",
   "pygments_lexer": "ipython3",
   "version": "3.11.11"
  }
 },
 "nbformat": 4,
 "nbformat_minor": 5
}
