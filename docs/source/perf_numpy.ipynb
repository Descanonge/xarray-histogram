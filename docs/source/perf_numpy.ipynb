{
 "cells": [
  {
   "cell_type": "markdown",
   "id": "a64f4d84",
   "metadata": {},
   "source": [
    "# Performances with numpy arrays\n",
    "\n",
    "We compare the performance for automatically generated numpy arrays, all eagerly loaded.\n",
    "This is the same setup used in the [boost documentation](https://boost-histogram.readthedocs.io/en/latest/notebooks/PerformanceComparison.html) to compare with numpy performances."
   ]
  },
  {
   "cell_type": "code",
   "execution_count": 1,
   "id": "4c7de314",
   "metadata": {},
   "outputs": [],
   "source": [
    "import boost_histogram as bh\n",
    "import numpy as np\n",
    "import xarray as xr\n",
    "import xarray_histogram as xh\n",
    "from numpy.testing import assert_allclose\n",
    "from xhistogram.xarray import histogram as xhistogram"
   ]
  },
  {
   "cell_type": "code",
   "execution_count": 2,
   "id": "c8f07323",
   "metadata": {},
   "outputs": [],
   "source": [
    "nbins = (100, 100)\n",
    "ranges = ((-3, 3), (-3, 3))\n",
    "\n",
    "axes = [bh.axis.Regular(nbins[i], *ranges[i]) for i in range(2)]\n",
    "edges = [ax.edges for ax in axes]"
   ]
  },
  {
   "cell_type": "code",
   "execution_count": 3,
   "id": "cfff599f",
   "metadata": {},
   "outputs": [],
   "source": [
    "np.random.seed(42)\n",
    "\n",
    "vals1d = np.random.normal(size=[10_000_000]).astype(np.float32)\n",
    "da_1d = xr.DataArray(vals1d, name='test_1d')\n",
    "\n",
    "vals = np.random.normal(size=[2, 10_000_000]).astype(np.float32)\n",
    "da_2d = [xr.DataArray(vals[i], name='test_2d_{}'.format(i)) for i in range(2)]"
   ]
  },
  {
   "cell_type": "markdown",
   "id": "9beee267",
   "metadata": {},
   "source": [
    "## One-dimensional histogram (flattened)"
   ]
  },
  {
   "cell_type": "code",
   "execution_count": 4,
   "id": "15acf6cd",
   "metadata": {},
   "outputs": [],
   "source": [
    "answer, _ = np.histogram(da_1d, bins=edges[0])"
   ]
  },
  {
   "cell_type": "markdown",
   "id": "7c3cd919",
   "metadata": {},
   "source": [
    "### Numpy"
   ]
  },
  {
   "cell_type": "code",
   "execution_count": 5,
   "id": "5df9b5c2",
   "metadata": {},
   "outputs": [
    {
     "name": "stdout",
     "output_type": "stream",
     "text": [
      "578 ms ± 1.09 ms per loop (mean ± std. dev. of 7 runs, 1 loop each)\n"
     ]
    }
   ],
   "source": [
    "%%timeit\n",
    "h, _ = np.histogram(da_1d, bins=edges[0])\n",
    "assert_allclose(h, answer)"
   ]
  },
  {
   "cell_type": "markdown",
   "id": "b2319c82",
   "metadata": {},
   "source": [
    "### xhistogram"
   ]
  },
  {
   "cell_type": "code",
   "execution_count": 6,
   "id": "3626be45",
   "metadata": {},
   "outputs": [
    {
     "name": "stdout",
     "output_type": "stream",
     "text": [
      "402 ms ± 857 µs per loop (mean ± std. dev. of 7 runs, 1 loop each)\n"
     ]
    }
   ],
   "source": [
    "%%timeit\n",
    "h = xhistogram(da_1d, bins=edges[0])\n",
    "assert_allclose(h.values, answer)"
   ]
  },
  {
   "cell_type": "markdown",
   "id": "1700b7e8",
   "metadata": {},
   "source": [
    "### xarray-histogram"
   ]
  },
  {
   "cell_type": "code",
   "execution_count": 7,
   "id": "dfe15e06",
   "metadata": {
    "scrolled": true
   },
   "outputs": [
    {
     "name": "stdout",
     "output_type": "stream",
     "text": [
      "34.5 ms ± 1.12 ms per loop (mean ± std. dev. of 7 runs, 10 loops each)\n"
     ]
    }
   ],
   "source": [
    "%%timeit\n",
    "h = xh.histogram(da_1d, bins=[axes[0]])\n",
    "assert_allclose(h.values, answer)"
   ]
  },
  {
   "cell_type": "markdown",
   "id": "e4e5301e",
   "metadata": {},
   "source": [
    "## Two-dimensional (flattened)"
   ]
  },
  {
   "cell_type": "code",
   "execution_count": 8,
   "id": "bd42d17d",
   "metadata": {},
   "outputs": [],
   "source": [
    "answer, _, _ = np.histogram2d(*da_2d, bins=edges)"
   ]
  },
  {
   "cell_type": "markdown",
   "id": "8eed8af6",
   "metadata": {},
   "source": [
    "### Numpy"
   ]
  },
  {
   "cell_type": "code",
   "execution_count": 9,
   "id": "98419df8",
   "metadata": {},
   "outputs": [
    {
     "name": "stdout",
     "output_type": "stream",
     "text": [
      "793 ms ± 836 µs per loop (mean ± std. dev. of 7 runs, 1 loop each)\n"
     ]
    }
   ],
   "source": [
    "%%timeit\n",
    "h, _, _ = np.histogram2d(*da_2d, bins=edges)\n",
    "assert_allclose(h, answer)"
   ]
  },
  {
   "cell_type": "markdown",
   "id": "f047b372",
   "metadata": {},
   "source": [
    "### xhistogram"
   ]
  },
  {
   "cell_type": "code",
   "execution_count": 10,
   "id": "e441891e",
   "metadata": {},
   "outputs": [
    {
     "name": "stdout",
     "output_type": "stream",
     "text": [
      "808 ms ± 1.15 ms per loop (mean ± std. dev. of 7 runs, 1 loop each)\n"
     ]
    }
   ],
   "source": [
    "%%timeit\n",
    "h = xhistogram(*da_2d, bins=edges)\n",
    "assert_allclose(h.values, answer)"
   ]
  },
  {
   "cell_type": "markdown",
   "id": "c81e4280",
   "metadata": {},
   "source": [
    "### xarray-histogram"
   ]
  },
  {
   "cell_type": "code",
   "execution_count": 11,
   "id": "47ef400d",
   "metadata": {},
   "outputs": [
    {
     "name": "stdout",
     "output_type": "stream",
     "text": [
      "68 ms ± 273 µs per loop (mean ± std. dev. of 7 runs, 10 loops each)\n"
     ]
    }
   ],
   "source": [
    "%%timeit\n",
    "h = xh.histogram(*da_2d, bins=axes)\n",
    "assert_allclose(h.values, answer)"
   ]
  },
  {
   "cell_type": "markdown",
   "id": "a87374da",
   "metadata": {},
   "source": [
    "## One-dimensional (along second dimension)"
   ]
  },
  {
   "cell_type": "code",
   "execution_count": 12,
   "id": "729333de",
   "metadata": {},
   "outputs": [],
   "source": [
    "vals_1d_t = np.random.normal(size=[3, 3_000_000]).astype(np.float32)\n",
    "da_1d_t = xr.DataArray(vals_1d_t, name='test_1d', dims=['t', 'x'])"
   ]
  },
  {
   "cell_type": "code",
   "execution_count": 13,
   "id": "8b69c897",
   "metadata": {},
   "outputs": [],
   "source": [
    "answer = xhistogram(da_1d_t, bins=edges[0], dim=['x']).load()"
   ]
  },
  {
   "cell_type": "markdown",
   "id": "cfffe49b",
   "metadata": {},
   "source": [
    "### xhistogram"
   ]
  },
  {
   "cell_type": "code",
   "execution_count": 14,
   "id": "e7c255ec",
   "metadata": {},
   "outputs": [
    {
     "name": "stdout",
     "output_type": "stream",
     "text": [
      "362 ms ± 3.08 ms per loop (mean ± std. dev. of 7 runs, 1 loop each)\n"
     ]
    }
   ],
   "source": [
    "%%timeit\n",
    "h = xhistogram(da_1d_t, bins=edges[0], dim=['x'])\n",
    "assert_allclose(h.values, answer.values)"
   ]
  },
  {
   "cell_type": "markdown",
   "id": "c54363e4",
   "metadata": {},
   "source": [
    "### xarray-histogram"
   ]
  },
  {
   "cell_type": "code",
   "execution_count": 15,
   "id": "ced5ef21",
   "metadata": {},
   "outputs": [
    {
     "name": "stdout",
     "output_type": "stream",
     "text": [
      "26.4 ms ± 224 µs per loop (mean ± std. dev. of 7 runs, 10 loops each)\n"
     ]
    }
   ],
   "source": [
    "%%timeit\n",
    "h = xh.histogram(da_1d_t, bins=[axes[0]], dims=['x'])\n",
    "assert_allclose(h.values.T, answer.values)"
   ]
  }
 ],
 "metadata": {
  "kernelspec": {
   "display_name": "Python 3 (ipykernel)",
   "language": "python",
   "name": "python3"
  },
  "language_info": {
   "codemirror_mode": {
    "name": "ipython",
    "version": 3
   },
   "file_extension": ".py",
   "mimetype": "text/x-python",
   "name": "python",
   "nbconvert_exporter": "python",
   "pygments_lexer": "ipython3",
   "version": "3.11.9"
  }
 },
 "nbformat": 4,
 "nbformat_minor": 5
}
